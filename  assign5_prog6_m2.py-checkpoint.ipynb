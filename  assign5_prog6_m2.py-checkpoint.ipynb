{
 "cells": [
  {
   "cell_type": "code",
   "execution_count": null,
   "metadata": {},
   "outputs": [],
   "source": [
    "import math\n",
    "Radians60 = math.radians(60)\n",
    "sin60 = math.sin(Radians60)\n",
    "sin60Rounded = round(sin60,2)\n",
    "Radians90 = math.radians(90)\n",
    "tan90 = math.tan(Radians90)\n",
    "tan90Rounded = round(tan90,2)\n",
    "print(\"Sin60:{}\".format(sin60Rounded))\n",
    "print(\"tan90:{}\".format(tan90Rounded))"
   ]
  }
 ],
 "metadata": {
  "kernelspec": {
   "display_name": "Python 3",
   "language": "python",
   "name": "python3"
  },
  "language_info": {
   "codemirror_mode": {
    "name": "ipython",
    "version": 3
   },
   "file_extension": ".py",
   "mimetype": "text/x-python",
   "name": "python",
   "nbconvert_exporter": "python",
   "pygments_lexer": "ipython3",
   "version": "3.7.3"
  }
 },
 "nbformat": 4,
 "nbformat_minor": 2
}
